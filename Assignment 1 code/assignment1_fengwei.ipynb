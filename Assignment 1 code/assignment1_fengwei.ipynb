{
 "cells": [
  {
   "cell_type": "code",
   "execution_count": 1,
   "metadata": {
    "id": "uk6waDW0teIu"
   },
   "outputs": [],
   "source": [
    "import numpy as np\n",
    "import pandas as pd\n",
    "import matplotlib.pyplot as plt\n",
    "import seaborn as sb\n",
    "from sklearn.ensemble import RandomForestClassifier\n",
    "from sklearn.linear_model import LogisticRegression\n",
    "from sklearn import svm\n",
    "from sklearn.metrics import accuracy_score\n",
    "from sklearn.metrics import f1_score\n",
    "from sklearn.model_selection import GridSearchCV\n",
    "from sklearn.metrics import auc, confusion_matrix, plot_confusion_matrix, classification_report, roc_curve, roc_auc_score\n",
    "from sklearn.metrics import make_scorer, precision_score, recall_score\n",
    "from imblearn.over_sampling import RandomOverSampler\n",
    "from sklearn.preprocessing import LabelEncoder\n",
    "from sklearn.preprocessing import MinMaxScaler\n",
    "import scipy.stats as stats\n",
    "from imblearn.over_sampling import SMOTE\n",
    "from sklearn.metrics import accuracy_score, precision_score, recall_score, f1_score\n",
    "import warnings\n",
    "warnings.filterwarnings(\"ignore\")\n",
    "from scipy.stats import norm\n",
    "import time\n"
   ]
  },
  {
   "cell_type": "code",
   "execution_count": 2,
   "metadata": {},
   "outputs": [],
   "source": [
    "names=['age', 'workclass', 'fnlwgt', 'education', 'education_num', 'marital_status', 'occupation', 'relationship', \n",
    "       'race', 'sex', 'capital_gain', 'capital_loss', 'hours_per_week', 'native_country', 'income']\n",
    "df = pd.read_csv('adult.data', names=names, skipinitialspace = True)\n",
    "df_test = pd.read_csv('adult.test', names=names, skipinitialspace = True)\n",
    "df_test = df_test.iloc[1:]\n",
    "df_test['income'].replace(regex=True,inplace=True,to_replace=r'\\.',value=r'')\n",
    "def categorical_type_category(df_all):\n",
    "    for col in set(df_all.columns) - set(df_all.describe().columns):\n",
    "        df_all[col] = df_all[col].astype('category')\n",
    "categorical_type_category(df)\n",
    "categorical_type_category(df_test)"
   ]
  },
  {
   "cell_type": "markdown",
   "metadata": {},
   "source": [
    "# Data pre-processing"
   ]
  },
  {
   "cell_type": "code",
   "execution_count": 3,
   "metadata": {},
   "outputs": [
    {
     "data": {
      "text/plain": [
       "<AxesSubplot:ylabel='income'>"
      ]
     },
     "execution_count": 3,
     "metadata": {},
     "output_type": "execute_result"
    },
    {
     "data": {
      "image/png": "[encoded data removed]",
      "text/plain": [
       "<Figure size 432x288 with 1 Axes>"
      ]
     },
     "metadata": {},
     "output_type": "display_data"
    }
   ],
   "source": [
    "#Imbalanced data\n",
    "df['income'].value_counts().plot.pie(autopct='%1.1f%%')\n",
    "#will be dealt with oversampling"
   ]
  },
  {
   "cell_type": "code",
   "execution_count": 4,
   "metadata": {},
   "outputs": [
    {
     "name": "stdout",
     "output_type": "stream",
     "text": [
      "Bachelors, matches Education Number [13]\n",
      "HS-grad, matches Education Number [9]\n",
      "11th, matches Education Number [7]\n",
      "Masters, matches Education Number [14]\n",
      "9th, matches Education Number [5]\n",
      "Some-college, matches Education Number [10]\n",
      "Assoc-acdm, matches Education Number [12]\n",
      "Assoc-voc, matches Education Number [11]\n",
      "7th-8th, matches Education Number [4]\n",
      "Doctorate, matches Education Number [16]\n",
      "Prof-school, matches Education Number [15]\n",
      "5th-6th, matches Education Number [3]\n",
      "10th, matches Education Number [6]\n",
      "1st-4th, matches Education Number [2]\n",
      "Preschool, matches Education Number [1]\n",
      "12th, matches Education Number [8]\n"
     ]
    }
   ],
   "source": [
    "# drop education column\n",
    "for edu in df['education'].unique():\n",
    "    print(\"{}, matches Education Number {}\".format(edu, df[df['education'] == edu]['education_num'].unique()))\n",
    "df.drop('education', inplace=True, axis=1)\n",
    "df_test.drop('education', inplace=True, axis=1)\n"
   ]
  },
  {
   "cell_type": "code",
   "execution_count": 5,
   "metadata": {},
   "outputs": [
    {
     "name": "stdout",
     "output_type": "stream",
     "text": [
      "number of duplicates: 24\n"
     ]
    }
   ],
   "source": [
    "# Remove duplicates\n",
    "print(\"number of duplicates:\", df.duplicated().sum())\n",
    "df = df[~df.duplicated()]\n",
    "df_test= df_test[~df_test.duplicated()]"
   ]
  },
  {
   "cell_type": "code",
   "execution_count": 6,
   "metadata": {},
   "outputs": [
    {
     "name": "stdout",
     "output_type": "stream",
     "text": [
      "Column workclass has 1836 missing values.\n",
      "Column occupation has 1843 missing values.\n",
      "Column native_country has 582 missing values.\n",
      "Filling up column: workclass\n",
      "Filling up column: occupation\n",
      "Filling up column: native_country\n",
      "Filling up column: workclass\n",
      "Filling up column: occupation\n",
      "Filling up column: native_country\n"
     ]
    }
   ],
   "source": [
    "# Missing values\n",
    "for col in df.columns:\n",
    "    n_missing = (df[col] == '?').sum()\n",
    "    if n_missing !=0:\n",
    "        print(f'Column {col} has {n_missing} missing values.')\n",
    "\n",
    "def oneHot(df, df_cols):\n",
    "    return pd.concat([df.drop(columns=df_cols), pd.get_dummies(df[df_cols])], axis=1)\n",
    "\n",
    "def fill_in_missing(df_all):\n",
    "    columns_with_missing_values = ['workclass', 'occupation', 'native_country']\n",
    "    for col in columns_with_missing_values:\n",
    "        print('Filling up column: '+col)\n",
    "\n",
    "        x_train = df_all[df_all[col] != '?'].copy()\n",
    "        x_test = df_all[df_all[col] == '?'].copy()\n",
    "        y_train = x_train[col]\n",
    "\n",
    "        x_train.drop(columns=[col], inplace=True)\n",
    "        x_test.drop(columns=[col], inplace=True)\n",
    "        \n",
    "        x_train = oneHot(x_train, x_train.select_dtypes('category').columns)\n",
    "        x_test = oneHot(x_test, x_test.select_dtypes('category').columns)\n",
    "        \n",
    "        r_forest = RandomForestClassifier(n_estimators=10)\n",
    "        r_forest.fit(x_train, y_train)\n",
    "\n",
    "        pred=r_forest.predict(x_test)\n",
    "        df_all.loc[df_all[col] == '?', col] = pred\n",
    "        \n",
    "        df_all[col] = df_all[col].cat.remove_categories('?')\n",
    "\n",
    "fill_in_missing(df)\n",
    "fill_in_missing(df_test)\n"
   ]
  },
  {
   "cell_type": "code",
   "execution_count": 7,
   "metadata": {},
   "outputs": [
    {
     "name": "stdout",
     "output_type": "stream",
     "text": [
      "       feature  importance\n",
      "        fnlwgt   17.513246\n",
      "           age   15.028399\n",
      "  capital_gain   11.943820\n",
      " education_num   11.796943\n",
      "  relationship   10.838885\n",
      "hours_per_week    8.114957\n",
      "    occupation    6.761287\n",
      "marital_status    6.345065\n",
      "     workclass    3.811346\n",
      "  capital_loss    3.648563\n",
      "native_country    1.509274\n",
      "          race    1.396204\n",
      "           sex    1.292010\n"
     ]
    },
    {
     "data": {
      "image/png": "[encoded data removed]",
      "text/plain": [
       "<Figure size 1440x432 with 1 Axes>"
      ]
     },
     "metadata": {
      "needs_background": "light"
     },
     "output_type": "display_data"
    }
   ],
   "source": [
    "# feature importance\n",
    "df_1 = df.copy()\n",
    "df_1[df_1.select_dtypes('category').columns] = df_1.select_dtypes('category').apply(LabelEncoder().fit_transform)\n",
    "y_1 = df_1['income']     \n",
    "X_1 = df_1.drop('income', axis=1)\n",
    "\n",
    "rf = RandomForestClassifier().fit(X_1, y_1)\n",
    "\n",
    "feature_importance = pd.DataFrame({'feature': X_1.columns.tolist(), 'importance': rf.feature_importances_ * 100}).sort_values(by='importance', ascending=False)\n",
    "plt.figure(figsize=[20,6])\n",
    "sb.barplot(data=feature_importance, x='feature', y='importance')\n",
    "plt.title('Features Importance')\n",
    "plt.xlabel('Feature')\n",
    "plt.ylabel('Importance (%)')\n",
    "print(feature_importance.to_string(index=False))\n",
    "\n"
   ]
  },
  {
   "cell_type": "code",
   "execution_count": 8,
   "metadata": {},
   "outputs": [
    {
     "name": "stdout",
     "output_type": "stream",
     "text": [
      "correlation between binary variable(income) and numerical variables:\n",
      "age : 0.23403709464456293\n",
      "capital_gain : 0.2233364989203645\n",
      "capital_loss : 0.1505007653680536\n",
      "hours_per_week : 0.22965810163854714\n",
      "fnlwgt : -0.009502349300418267\n",
      "education_num : 0.3352715122489285\n"
     ]
    }
   ],
   "source": [
    "# biserial correlation\n",
    "print('correlation between binary variable(income) and numerical variables:')\n",
    "numerical = ['age', 'capital_gain', 'capital_loss', 'hours_per_week', 'fnlwgt', 'education_num']\n",
    "for i in numerical:\n",
    "    print(i,':',stats.pointbiserialr(df_1['income'],df_1[i])[0])\n",
    "#df_1=df_1.drop('fnlwgt',axis=1) #after dropping, performance dropped\n"
   ]
  },
  {
   "cell_type": "code",
   "execution_count": 9,
   "metadata": {},
   "outputs": [],
   "source": [
    "# Scalling\n",
    "scaler = MinMaxScaler()\n",
    "df[numerical] = scaler.fit_transform(df[numerical])\n",
    "df_test[numerical] = scaler.fit_transform(df_test[numerical])"
   ]
  },
  {
   "cell_type": "code",
   "execution_count": 10,
   "metadata": {},
   "outputs": [],
   "source": [
    "# Encoding\n",
    "df['income'] = df.income.replace({\"<=50K\": int(0), \">50K\": int(1)})\n",
    "df_test['income'] = df_test.income.replace({\"<=50K\": int(0), \">50K\": int(1)})\n",
    "no_income=['age', 'workclass', 'fnlwgt', 'education_num', 'marital_status', 'occupation', 'relationship', \n",
    "       'race', 'sex', 'capital_gain', 'capital_loss', 'hours_per_week', 'native_country']\n",
    "dummies_df = pd.get_dummies(df[no_income])\n",
    "dummies_df_test = pd.get_dummies(df_test[no_income])\n",
    "df = pd.concat([df['income'], dummies_df], axis=1)\n",
    "df_test = pd.concat([df_test['income'], dummies_df_test], axis=1)\n"
   ]
  },
  {
   "cell_type": "code",
   "execution_count": 11,
   "metadata": {},
   "outputs": [
    {
     "data": {
      "text/plain": [
       "'\\n#another way of resampeling: SMOTE\\nsmote = SMOTE(random_state=2023)\\nX, y = smote.fit_resample(X, y)\\n'"
      ]
     },
     "execution_count": 11,
     "metadata": {},
     "output_type": "execute_result"
    }
   ],
   "source": [
    "y_train = df['income']\n",
    "X_train = df.drop('income', axis=1)\n",
    "\n",
    "y_test = df_test['income']\n",
    "X_test = df_test.drop('income', axis=1)\n",
    "\n",
    "#to deal with imbanlanced data: resampling\n",
    "X_train, y_train = RandomOverSampler().fit_resample(X_train, y_train)\n",
    "\n",
    "'''\n",
    "#another way of resampeling: SMOTE\n",
    "smote = SMOTE(random_state=2023)\n",
    "X, y = smote.fit_resample(X, y)\n",
    "'''\n"
   ]
  },
  {
   "cell_type": "code",
   "execution_count": 12,
   "metadata": {},
   "outputs": [],
   "source": [
    "column_difference=set(X_train.columns) - set(X_test.columns)\n",
    "X_test = X_test.assign(column_difference=0)\n"
   ]
  },
  {
   "cell_type": "markdown",
   "metadata": {},
   "source": [
    "# Train & Test"
   ]
  },
  {
   "cell_type": "code",
   "execution_count": 13,
   "metadata": {},
   "outputs": [
    {
     "name": "stdout",
     "output_type": "stream",
     "text": [
      "Fitting 5 folds for each of 36 candidates, totalling 180 fits\n",
      "Best parameters:  {'max_depth': None, 'max_features': 'sqrt', 'min_samples_split': 2, 'n_estimators': 100}\n",
      "              precision    recall  f1-score   support\n",
      "\n",
      "           0       0.89      0.92      0.91     12430\n",
      "           1       0.71      0.65      0.68      3846\n",
      "\n",
      "    accuracy                           0.85     16276\n",
      "   macro avg       0.80      0.78      0.79     16276\n",
      "weighted avg       0.85      0.85      0.85     16276\n",
      "\n",
      "Best score:  0.9387401280186614\n"
     ]
    },
    {
     "data": {
      "text/plain": [
       "\"\\nFitting 5 folds for each of 36 candidates, totalling 180 fits\\nBest parameters:  {'max_depth': None, 'max_features': 'sqrt', 'min_samples_split': 2, 'n_estimators': 500}\\n              precision    recall  f1-score   support\\n\\n           0       0.90      0.92      0.91     12430\\n           1       0.71      0.65      0.68      3846\\n\\n    accuracy                           0.85     16276\\n   macro avg       0.80      0.79      0.79     16276\\nweighted avg       0.85      0.85      0.85     16276\\n\\nBest score:  0.9384364638031109\\n\""
      ]
     },
     "execution_count": 13,
     "metadata": {},
     "output_type": "execute_result"
    }
   ],
   "source": [
    "#fine-turn parameter, stopping criterion \n",
    "\n",
    "param_grid = {\n",
    "    'n_estimators': [100, 500],\n",
    "    'max_depth': [None, 10, 20],\n",
    "    'max_features': ['auto', 'sqrt'],\n",
    "    'min_samples_split': [2, 5, 10]}\n",
    "\n",
    "rf_grid = GridSearchCV(estimator = RandomForestClassifier(), param_grid=param_grid, verbose=3, n_jobs = -1)\n",
    "\n",
    "rf_grid.fit(X_train, y_train)\n",
    "\n",
    "print(\"Best parameters: \", rf_grid.best_params_) \n",
    "#Best parameters:  {'max_depth': None, 'max_features': 'sqrt', 'min_samples_split': 2, 'n_estimators': 500}\n",
    "\n",
    "rf_grid_best = rf_grid.best_estimator_\n",
    "rf_grid_predictions = rf_grid_best.predict(X_test) \n",
    "print(classification_report(y_test, rf_grid_predictions))\n",
    "print(\"Best score: \", rf_grid.best_score_)\n",
    "'''\n",
    "Fitting 5 folds for each of 36 candidates, totalling 180 fits\n",
    "Best parameters:  {'max_depth': None, 'max_features': 'sqrt', 'min_samples_split': 2, 'n_estimators': 500}\n",
    "              precision    recall  f1-score   support\n",
    "\n",
    "           0       0.90      0.92      0.91     12430\n",
    "           1       0.71      0.65      0.68      3846\n",
    "\n",
    "    accuracy                           0.85     16276\n",
    "   macro avg       0.80      0.79      0.79     16276\n",
    "weighted avg       0.85      0.85      0.85     16276\n",
    "\n",
    "Best score:  0.9384364638031109\n",
    "'''"
   ]
  },
  {
   "cell_type": "code",
   "execution_count": 14,
   "metadata": {},
   "outputs": [
    {
     "name": "stdout",
     "output_type": "stream",
     "text": [
      "[CV 4/5] END max_depth=None, max_features=auto, min_samples_split=2, n_estimators=100;, score=0.946 total time=  14.8s\n",
      "[CV 3/5] END max_depth=None, max_features=auto, min_samples_split=2, n_estimators=500;, score=0.942 total time= 1.1min\n",
      "[CV 2/5] END max_depth=None, max_features=auto, min_samples_split=5, n_estimators=100;, score=0.917 total time=  16.7s\n",
      "[CV 4/5] END max_depth=None, max_features=auto, min_samples_split=5, n_estimators=100;, score=0.936 total time=  14.7s\n",
      "[CV 2/5] END max_depth=None, max_features=auto, min_samples_split=5, n_estimators=500;, score=0.918 total time= 1.1min\n",
      "[CV 1/5] END max_depth=None, max_features=auto, min_samples_split=10, n_estimators=100;, score=0.903 total time=  11.6s\n",
      "[CV 3/5] END max_depth=None, max_features=auto, min_samples_split=10, n_estimators=100;, score=0.919 total time=  11.1s\n",
      "[CV 5/5] END max_depth=None, max_features=auto, min_samples_split=10, n_estimators=100;, score=0.915 total time=  12.0s\n",
      "[CV 2/5] END max_depth=None, max_features=auto, min_samples_split=10, n_estimators=500;, score=0.904 total time=  57.9s\n",
      "[CV 1/5] END max_depth=None, max_features=sqrt, min_samples_split=2, n_estimators=100;, score=0.931 total time=  13.3s\n",
      "[CV 3/5] END max_depth=None, max_features=sqrt, min_samples_split=2, n_estimators=100;, score=0.943 total time=  11.8s\n",
      "[CV 5/5] END max_depth=None, max_features=sqrt, min_samples_split=2, n_estimators=100;, score=0.945 total time=  12.6s\n",
      "[CV 3/5] END max_depth=None, max_features=sqrt, min_samples_split=2, n_estimators=500;, score=0.942 total time= 1.0min\n",
      "[CV 2/5] END max_depth=None, max_features=sqrt, min_samples_split=5, n_estimators=100;, score=0.917 total time=  12.1s\n",
      "[CV 4/5] END max_depth=None, max_features=sqrt, min_samples_split=5, n_estimators=100;, score=0.937 total time=  11.0s\n",
      "[CV 2/5] END max_depth=None, max_features=sqrt, min_samples_split=5, n_estimators=500;, score=0.917 total time=  58.8s\n",
      "[CV 1/5] END max_depth=None, max_features=sqrt, min_samples_split=10, n_estimators=100;, score=0.901 total time=  10.5s\n",
      "[CV 3/5] END max_depth=None, max_features=sqrt, min_samples_split=10, n_estimators=100;, score=0.917 total time=  11.9s\n",
      "[CV 5/5] END max_depth=None, max_features=sqrt, min_samples_split=10, n_estimators=100;, score=0.912 total time=  10.7s\n",
      "[CV 3/5] END max_depth=None, max_features=sqrt, min_samples_split=10, n_estimators=500;, score=0.919 total time=  57.5s\n",
      "[CV 3/5] END max_depth=10, max_features=auto, min_samples_split=2, n_estimators=100;, score=0.832 total time=   5.6s\n",
      "[CV 5/5] END max_depth=10, max_features=auto, min_samples_split=2, n_estimators=100;, score=0.833 total time=   7.0s\n",
      "[CV 2/5] END max_depth=10, max_features=auto, min_samples_split=2, n_estimators=500;, score=0.828 total time=  27.7s\n",
      "[CV 5/5] END max_depth=10, max_features=auto, min_samples_split=2, n_estimators=500;, score=0.830 total time=  29.0s\n",
      "[CV 4/5] END max_depth=10, max_features=auto, min_samples_split=5, n_estimators=500;, score=0.834 total time=  28.5s\n",
      "[CV 4/5] END max_depth=10, max_features=auto, min_samples_split=10, n_estimators=100;, score=0.832 total time=   5.4s\n",
      "[CV 2/5] END max_depth=10, max_features=auto, min_samples_split=10, n_estimators=500;, score=0.827 total time=  29.0s\n",
      "[CV 1/5] END max_depth=10, max_features=sqrt, min_samples_split=2, n_estimators=100;, score=0.825 total time=   5.8s\n",
      "[CV 3/5] END max_depth=10, max_features=sqrt, min_samples_split=2, n_estimators=100;, score=0.831 total time=   5.5s\n",
      "[CV 5/5] END max_depth=10, max_features=sqrt, min_samples_split=2, n_estimators=100;, score=0.832 total time=   5.4s\n",
      "[CV 3/5] END max_depth=10, max_features=sqrt, min_samples_split=2, n_estimators=500;, score=0.831 total time=  30.7s\n",
      "[CV 2/5] END max_depth=10, max_features=sqrt, min_samples_split=5, n_estimators=100;, score=0.831 total time=   6.2s\n",
      "[CV 4/5] END max_depth=10, max_features=sqrt, min_samples_split=5, n_estimators=100;, score=0.832 total time=   6.0s\n",
      "[CV 2/5] END max_depth=10, max_features=sqrt, min_samples_split=5, n_estimators=500;, score=0.828 total time=  30.2s\n",
      "[CV 1/5] END max_depth=10, max_features=sqrt, min_samples_split=10, n_estimators=100;, score=0.824 total time=   5.8s\n",
      "[CV 3/5] END max_depth=10, max_features=sqrt, min_samples_split=10, n_estimators=100;, score=0.834 total time=   5.8s\n",
      "[CV 5/5] END max_depth=10, max_features=sqrt, min_samples_split=10, n_estimators=100;, score=0.832 total time=   5.6s\n",
      "[CV 3/5] END max_depth=10, max_features=sqrt, min_samples_split=10, n_estimators=500;, score=0.832 total time=  29.9s\n",
      "[CV 2/5] END max_depth=20, max_features=auto, min_samples_split=2, n_estimators=100;, score=0.888 total time=  10.0s\n",
      "[CV 4/5] END max_depth=20, max_features=auto, min_samples_split=2, n_estimators=100;, score=0.902 total time=  10.3s\n",
      "[CV 2/5] END max_depth=20, max_features=auto, min_samples_split=2, n_estimators=500;, score=0.887 total time=  49.7s\n",
      "[CV 1/5] END max_depth=20, max_features=auto, min_samples_split=5, n_estimators=100;, score=0.880 total time=  10.1s\n",
      "[CV 4/5] END max_depth=20, max_features=auto, min_samples_split=5, n_estimators=100;, score=0.890 total time=  10.2s\n",
      "[CV 2/5] END max_depth=20, max_features=auto, min_samples_split=5, n_estimators=500;, score=0.878 total time=  48.9s\n",
      "[CV 1/5] END max_depth=20, max_features=auto, min_samples_split=10, n_estimators=100;, score=0.871 total time=   9.9s\n",
      "[CV 3/5] END max_depth=20, max_features=auto, min_samples_split=10, n_estimators=100;, score=0.882 total time=   8.9s\n",
      "[CV 5/5] END max_depth=20, max_features=auto, min_samples_split=10, n_estimators=100;, score=0.876 total time=   9.7s\n",
      "[CV 3/5] END max_depth=20, max_features=auto, min_samples_split=10, n_estimators=500;, score=0.884 total time=  47.9s\n",
      "[CV 2/5] END max_depth=20, max_features=sqrt, min_samples_split=2, n_estimators=100;, score=0.887 total time=  10.0s\n",
      "[CV 4/5] END max_depth=20, max_features=sqrt, min_samples_split=2, n_estimators=100;, score=0.899 total time=  10.6s\n",
      "[CV 2/5] END max_depth=20, max_features=sqrt, min_samples_split=2, n_estimators=500;, score=0.887 total time=  50.2s\n",
      "[CV 1/5] END max_depth=20, max_features=sqrt, min_samples_split=5, n_estimators=100;, score=0.879 total time=  10.5s\n",
      "[CV 3/5] END max_depth=20, max_features=sqrt, min_samples_split=5, n_estimators=100;, score=0.890 total time=  10.0s\n",
      "[CV 5/5] END max_depth=20, max_features=sqrt, min_samples_split=5, n_estimators=100;, score=0.888 total time=   9.9s\n",
      "[CV 3/5] END max_depth=20, max_features=sqrt, min_samples_split=5, n_estimators=500;, score=0.892 total time=  51.2s\n",
      "[CV 2/5] END max_depth=20, max_features=sqrt, min_samples_split=10, n_estimators=100;, score=0.870 total time=  10.1s\n",
      "[CV 4/5] END max_depth=20, max_features=sqrt, min_samples_split=10, n_estimators=100;, score=0.881 total time=   9.0s\n",
      "[CV 2/5] END max_depth=20, max_features=sqrt, min_samples_split=10, n_estimators=500;, score=0.871 total time=  47.3s\n",
      "[CV 1/5] END max_depth=None, max_features=auto, min_samples_split=2, n_estimators=100;, score=0.930 total time=  14.5s\n",
      "[CV 5/5] END max_depth=None, max_features=auto, min_samples_split=2, n_estimators=100;, score=0.945 total time=  11.8s\n",
      "[CV 4/5] END max_depth=None, max_features=auto, min_samples_split=2, n_estimators=500;, score=0.945 total time= 1.2min\n",
      "[CV 5/5] END max_depth=None, max_features=auto, min_samples_split=5, n_estimators=100;, score=0.934 total time=  14.4s\n",
      "[CV 3/5] END max_depth=None, max_features=auto, min_samples_split=5, n_estimators=500;, score=0.932 total time= 1.1min\n",
      "[CV 2/5] END max_depth=None, max_features=auto, min_samples_split=10, n_estimators=100;, score=0.903 total time=  11.3s\n",
      "[CV 4/5] END max_depth=None, max_features=auto, min_samples_split=10, n_estimators=100;, score=0.918 total time=  11.8s\n",
      "[CV 1/5] END max_depth=None, max_features=auto, min_samples_split=10, n_estimators=500;, score=0.903 total time=  57.7s\n",
      "[CV 5/5] END max_depth=None, max_features=auto, min_samples_split=10, n_estimators=500;, score=0.916 total time=  59.6s\n",
      "[CV 4/5] END max_depth=None, max_features=sqrt, min_samples_split=2, n_estimators=500;, score=0.945 total time= 1.0min\n",
      "[CV 5/5] END max_depth=None, max_features=sqrt, min_samples_split=5, n_estimators=100;, score=0.933 total time=  11.5s\n",
      "[CV 3/5] END max_depth=None, max_features=sqrt, min_samples_split=5, n_estimators=500;, score=0.933 total time=  59.3s\n",
      "[CV 2/5] END max_depth=None, max_features=sqrt, min_samples_split=10, n_estimators=100;, score=0.903 total time=  10.7s\n",
      "[CV 4/5] END max_depth=None, max_features=sqrt, min_samples_split=10, n_estimators=100;, score=0.917 total time=  12.1s\n",
      "[CV 1/5] END max_depth=None, max_features=sqrt, min_samples_split=10, n_estimators=500;, score=0.904 total time=  57.3s\n",
      "[CV 5/5] END max_depth=None, max_features=sqrt, min_samples_split=10, n_estimators=500;, score=0.916 total time=  55.2s\n",
      "[CV 2/5] END max_depth=10, max_features=auto, min_samples_split=5, n_estimators=100;, score=0.828 total time=   6.7s\n",
      "[CV 4/5] END max_depth=10, max_features=auto, min_samples_split=5, n_estimators=100;, score=0.836 total time=   5.4s\n",
      "[CV 1/5] END max_depth=10, max_features=auto, min_samples_split=5, n_estimators=500;, score=0.827 total time=  28.3s\n",
      "[CV 5/5] END max_depth=10, max_features=auto, min_samples_split=5, n_estimators=500;, score=0.828 total time=  29.5s\n",
      "[CV 4/5] END max_depth=10, max_features=auto, min_samples_split=10, n_estimators=500;, score=0.833 total time=  28.5s\n",
      "[CV 1/5] END max_depth=10, max_features=sqrt, min_samples_split=2, n_estimators=500;, score=0.829 total time=  28.6s\n",
      "[CV 5/5] END max_depth=10, max_features=sqrt, min_samples_split=2, n_estimators=500;, score=0.832 total time=  31.6s\n",
      "[CV 4/5] END max_depth=10, max_features=sqrt, min_samples_split=5, n_estimators=500;, score=0.835 total time=  30.0s\n",
      "[CV 1/5] END max_depth=10, max_features=sqrt, min_samples_split=10, n_estimators=500;, score=0.825 total time=  29.1s\n",
      "[CV 5/5] END max_depth=10, max_features=sqrt, min_samples_split=10, n_estimators=500;, score=0.829 total time=  29.3s\n",
      "[CV 4/5] END max_depth=20, max_features=auto, min_samples_split=2, n_estimators=500;, score=0.901 total time=  51.4s\n",
      "[CV 3/5] END max_depth=20, max_features=auto, min_samples_split=5, n_estimators=100;, score=0.890 total time=  10.5s\n",
      "[CV 1/5] END max_depth=20, max_features=auto, min_samples_split=5, n_estimators=500;, score=0.879 total time=  49.3s\n",
      "[CV 5/5] END max_depth=20, max_features=auto, min_samples_split=5, n_estimators=500;, score=0.887 total time=  48.0s\n",
      "[CV 4/5] END max_depth=20, max_features=auto, min_samples_split=10, n_estimators=500;, score=0.882 total time=  48.8s\n",
      "[CV 5/5] END max_depth=20, max_features=sqrt, min_samples_split=2, n_estimators=100;, score=0.898 total time=  10.8s\n",
      "[CV 3/5] END max_depth=20, max_features=sqrt, min_samples_split=2, n_estimators=500;, score=0.898 total time=  51.2s\n",
      "[CV 2/5] END max_depth=20, max_features=sqrt, min_samples_split=5, n_estimators=100;, score=0.878 total time=  10.1s\n",
      "[CV 4/5] END max_depth=20, max_features=sqrt, min_samples_split=5, n_estimators=100;, score=0.890 total time=  10.5s\n",
      "[CV 2/5] END max_depth=20, max_features=sqrt, min_samples_split=5, n_estimators=500;, score=0.879 total time=  50.7s\n",
      "[CV 1/5] END max_depth=20, max_features=sqrt, min_samples_split=10, n_estimators=100;, score=0.868 total time=   9.9s\n",
      "[CV 3/5] END max_depth=20, max_features=sqrt, min_samples_split=10, n_estimators=100;, score=0.882 total time=   9.2s\n",
      "[CV 5/5] END max_depth=20, max_features=sqrt, min_samples_split=10, n_estimators=100;, score=0.877 total time=   9.8s\n",
      "[CV 3/5] END max_depth=20, max_features=sqrt, min_samples_split=10, n_estimators=500;, score=0.884 total time=  45.4s\n"
     ]
    },
    {
     "name": "stdout",
     "output_type": "stream",
     "text": [
      "[CV 2/5] END max_depth=None, max_features=auto, min_samples_split=2, n_estimators=100;, score=0.927 total time=  14.6s\n",
      "[CV 1/5] END max_depth=None, max_features=auto, min_samples_split=2, n_estimators=500;, score=0.930 total time= 1.1min\n",
      "[CV 5/5] END max_depth=None, max_features=auto, min_samples_split=2, n_estimators=500;, score=0.944 total time= 1.2min\n",
      "[CV 4/5] END max_depth=None, max_features=auto, min_samples_split=5, n_estimators=500;, score=0.936 total time= 1.0min\n",
      "[CV 3/5] END max_depth=None, max_features=auto, min_samples_split=10, n_estimators=500;, score=0.920 total time=  57.3s\n",
      "[CV 2/5] END max_depth=None, max_features=sqrt, min_samples_split=2, n_estimators=100;, score=0.928 total time=  13.1s\n",
      "[CV 4/5] END max_depth=None, max_features=sqrt, min_samples_split=2, n_estimators=100;, score=0.946 total time=  11.8s\n",
      "[CV 2/5] END max_depth=None, max_features=sqrt, min_samples_split=2, n_estimators=500;, score=0.927 total time= 1.0min\n",
      "[CV 1/5] END max_depth=None, max_features=sqrt, min_samples_split=5, n_estimators=100;, score=0.921 total time=  12.3s\n",
      "[CV 3/5] END max_depth=None, max_features=sqrt, min_samples_split=5, n_estimators=100;, score=0.934 total time=  12.3s\n",
      "[CV 1/5] END max_depth=None, max_features=sqrt, min_samples_split=5, n_estimators=500;, score=0.920 total time=  57.7s\n",
      "[CV 5/5] END max_depth=None, max_features=sqrt, min_samples_split=5, n_estimators=500;, score=0.935 total time=  58.9s\n",
      "[CV 4/5] END max_depth=None, max_features=sqrt, min_samples_split=10, n_estimators=500;, score=0.918 total time=  57.9s\n",
      "[CV 3/5] END max_depth=10, max_features=auto, min_samples_split=2, n_estimators=500;, score=0.831 total time=  28.1s\n",
      "[CV 1/5] END max_depth=10, max_features=auto, min_samples_split=5, n_estimators=100;, score=0.822 total time=   6.0s\n",
      "[CV 3/5] END max_depth=10, max_features=auto, min_samples_split=5, n_estimators=100;, score=0.833 total time=   6.1s\n",
      "[CV 5/5] END max_depth=10, max_features=auto, min_samples_split=5, n_estimators=100;, score=0.831 total time=   5.5s\n",
      "[CV 2/5] END max_depth=10, max_features=auto, min_samples_split=5, n_estimators=500;, score=0.828 total time=  28.1s\n",
      "[CV 1/5] END max_depth=10, max_features=auto, min_samples_split=10, n_estimators=100;, score=0.822 total time=   6.4s\n",
      "[CV 2/5] END max_depth=10, max_features=auto, min_samples_split=10, n_estimators=100;, score=0.826 total time=   5.3s\n",
      "[CV 5/5] END max_depth=10, max_features=auto, min_samples_split=10, n_estimators=100;, score=0.829 total time=   5.4s\n",
      "[CV 3/5] END max_depth=10, max_features=auto, min_samples_split=10, n_estimators=500;, score=0.831 total time=  29.9s\n",
      "[CV 2/5] END max_depth=10, max_features=sqrt, min_samples_split=2, n_estimators=100;, score=0.831 total time=   5.4s\n",
      "[CV 4/5] END max_depth=10, max_features=sqrt, min_samples_split=2, n_estimators=100;, score=0.837 total time=   5.4s\n",
      "[CV 2/5] END max_depth=10, max_features=sqrt, min_samples_split=2, n_estimators=500;, score=0.828 total time=  30.8s\n",
      "[CV 1/5] END max_depth=10, max_features=sqrt, min_samples_split=5, n_estimators=100;, score=0.823 total time=   5.8s\n",
      "[CV 3/5] END max_depth=10, max_features=sqrt, min_samples_split=5, n_estimators=100;, score=0.833 total time=   6.6s\n",
      "[CV 1/5] END max_depth=10, max_features=sqrt, min_samples_split=5, n_estimators=500;, score=0.826 total time=  29.7s\n",
      "[CV 5/5] END max_depth=10, max_features=sqrt, min_samples_split=5, n_estimators=500;, score=0.830 total time=  30.4s\n",
      "[CV 4/5] END max_depth=10, max_features=sqrt, min_samples_split=10, n_estimators=500;, score=0.833 total time=  29.3s\n",
      "[CV 5/5] END max_depth=20, max_features=auto, min_samples_split=2, n_estimators=100;, score=0.895 total time=  10.2s\n",
      "[CV 3/5] END max_depth=20, max_features=auto, min_samples_split=2, n_estimators=500;, score=0.898 total time=  51.1s\n",
      "[CV 2/5] END max_depth=20, max_features=auto, min_samples_split=5, n_estimators=100;, score=0.878 total time=  10.2s\n",
      "[CV 5/5] END max_depth=20, max_features=auto, min_samples_split=5, n_estimators=100;, score=0.886 total time=   9.7s\n",
      "[CV 3/5] END max_depth=20, max_features=auto, min_samples_split=5, n_estimators=500;, score=0.891 total time=  49.1s\n",
      "[CV 2/5] END max_depth=20, max_features=auto, min_samples_split=10, n_estimators=100;, score=0.870 total time=  10.2s\n",
      "[CV 4/5] END max_depth=20, max_features=auto, min_samples_split=10, n_estimators=100;, score=0.882 total time=   8.9s\n",
      "[CV 1/5] END max_depth=20, max_features=auto, min_samples_split=10, n_estimators=500;, score=0.870 total time=  47.1s\n",
      "[CV 5/5] END max_depth=20, max_features=auto, min_samples_split=10, n_estimators=500;, score=0.879 total time=  49.9s\n",
      "[CV 4/5] END max_depth=20, max_features=sqrt, min_samples_split=2, n_estimators=500;, score=0.902 total time=  50.7s\n",
      "[CV 1/5] END max_depth=20, max_features=sqrt, min_samples_split=5, n_estimators=500;, score=0.880 total time=  49.5s\n",
      "[CV 5/5] END max_depth=20, max_features=sqrt, min_samples_split=5, n_estimators=500;, score=0.887 total time=  48.4s\n",
      "[CV 4/5] END max_depth=20, max_features=sqrt, min_samples_split=10, n_estimators=500;, score=0.883 total time=  40.5s\n",
      "[CV 3/5] END max_depth=None, max_features=auto, min_samples_split=2, n_estimators=100;, score=0.941 total time=  14.6s\n",
      "[CV 2/5] END max_depth=None, max_features=auto, min_samples_split=2, n_estimators=500;, score=0.928 total time= 1.1min\n",
      "[CV 1/5] END max_depth=None, max_features=auto, min_samples_split=5, n_estimators=100;, score=0.920 total time=  16.8s\n",
      "[CV 3/5] END max_depth=None, max_features=auto, min_samples_split=5, n_estimators=100;, score=0.932 total time=  14.5s\n",
      "[CV 1/5] END max_depth=None, max_features=auto, min_samples_split=5, n_estimators=500;, score=0.921 total time= 1.1min\n",
      "[CV 5/5] END max_depth=None, max_features=auto, min_samples_split=5, n_estimators=500;, score=0.934 total time= 1.0min\n",
      "[CV 4/5] END max_depth=None, max_features=auto, min_samples_split=10, n_estimators=500;, score=0.917 total time=  58.2s\n",
      "[CV 1/5] END max_depth=None, max_features=sqrt, min_samples_split=2, n_estimators=500;, score=0.929 total time= 1.0min\n",
      "[CV 5/5] END max_depth=None, max_features=sqrt, min_samples_split=2, n_estimators=500;, score=0.944 total time= 1.0min\n",
      "[CV 4/5] END max_depth=None, max_features=sqrt, min_samples_split=5, n_estimators=500;, score=0.937 total time=  58.5s\n",
      "[CV 2/5] END max_depth=None, max_features=sqrt, min_samples_split=10, n_estimators=500;, score=0.903 total time=  57.0s\n",
      "[CV 1/5] END max_depth=10, max_features=auto, min_samples_split=2, n_estimators=100;, score=0.827 total time=   5.6s\n",
      "[CV 2/5] END max_depth=10, max_features=auto, min_samples_split=2, n_estimators=100;, score=0.828 total time=   5.4s\n",
      "[CV 4/5] END max_depth=10, max_features=auto, min_samples_split=2, n_estimators=100;, score=0.835 total time=   6.7s\n",
      "[CV 1/5] END max_depth=10, max_features=auto, min_samples_split=2, n_estimators=500;, score=0.828 total time=  27.7s\n",
      "[CV 4/5] END max_depth=10, max_features=auto, min_samples_split=2, n_estimators=500;, score=0.835 total time=  28.9s\n",
      "[CV 3/5] END max_depth=10, max_features=auto, min_samples_split=5, n_estimators=500;, score=0.831 total time=  29.5s\n",
      "[CV 3/5] END max_depth=10, max_features=auto, min_samples_split=10, n_estimators=100;, score=0.832 total time=   5.5s\n",
      "[CV 1/5] END max_depth=10, max_features=auto, min_samples_split=10, n_estimators=500;, score=0.826 total time=  28.7s\n",
      "[CV 5/5] END max_depth=10, max_features=auto, min_samples_split=10, n_estimators=500;, score=0.830 total time=  28.8s\n",
      "[CV 4/5] END max_depth=10, max_features=sqrt, min_samples_split=2, n_estimators=500;, score=0.835 total time=  31.2s\n",
      "[CV 5/5] END max_depth=10, max_features=sqrt, min_samples_split=5, n_estimators=100;, score=0.832 total time=   5.5s\n",
      "[CV 3/5] END max_depth=10, max_features=sqrt, min_samples_split=5, n_estimators=500;, score=0.832 total time=  31.0s\n",
      "[CV 2/5] END max_depth=10, max_features=sqrt, min_samples_split=10, n_estimators=100;, score=0.832 total time=   5.7s\n",
      "[CV 4/5] END max_depth=10, max_features=sqrt, min_samples_split=10, n_estimators=100;, score=0.834 total time=   5.6s\n",
      "[CV 2/5] END max_depth=10, max_features=sqrt, min_samples_split=10, n_estimators=500;, score=0.827 total time=  29.3s\n",
      "[CV 1/5] END max_depth=20, max_features=auto, min_samples_split=2, n_estimators=100;, score=0.888 total time=  10.0s\n",
      "[CV 3/5] END max_depth=20, max_features=auto, min_samples_split=2, n_estimators=100;, score=0.898 total time=  10.1s\n",
      "[CV 1/5] END max_depth=20, max_features=auto, min_samples_split=2, n_estimators=500;, score=0.889 total time=  49.6s\n",
      "[CV 5/5] END max_depth=20, max_features=auto, min_samples_split=2, n_estimators=500;, score=0.897 total time=  51.2s\n",
      "[CV 4/5] END max_depth=20, max_features=auto, min_samples_split=5, n_estimators=500;, score=0.892 total time=  48.2s\n",
      "[CV 2/5] END max_depth=20, max_features=auto, min_samples_split=10, n_estimators=500;, score=0.869 total time=  47.1s\n",
      "[CV 1/5] END max_depth=20, max_features=sqrt, min_samples_split=2, n_estimators=100;, score=0.887 total time=   9.9s\n",
      "[CV 3/5] END max_depth=20, max_features=sqrt, min_samples_split=2, n_estimators=100;, score=0.898 total time=  10.9s\n",
      "[CV 1/5] END max_depth=20, max_features=sqrt, min_samples_split=2, n_estimators=500;, score=0.888 total time=  51.1s\n",
      "[CV 5/5] END max_depth=20, max_features=sqrt, min_samples_split=2, n_estimators=500;, score=0.897 total time=  51.7s\n",
      "[CV 4/5] END max_depth=20, max_features=sqrt, min_samples_split=5, n_estimators=500;, score=0.893 total time=  49.3s\n",
      "[CV 1/5] END max_depth=20, max_features=sqrt, min_samples_split=10, n_estimators=500;, score=0.872 total time=  46.8s\n",
      "[CV 5/5] END max_depth=20, max_features=sqrt, min_samples_split=10, n_estimators=500;, score=0.878 total time=  24.1s\n"
     ]
    },
    {
     "name": "stdout",
     "output_type": "stream",
     "text": [
      "Best parameters:  {'C': 1, 'penalty': 'l2', 'solver': 'lbfgs'}\n",
      "              precision    recall  f1-score   support\n",
      "\n",
      "           0       0.89      0.92      0.91     12430\n",
      "           1       0.71      0.65      0.68      3846\n",
      "\n",
      "    accuracy                           0.85     16276\n",
      "   macro avg       0.80      0.78      0.79     16276\n",
      "weighted avg       0.85      0.85      0.85     16276\n",
      "\n",
      "Best score:  0.8250264024657874\n"
     ]
    },
    {
     "data": {
      "text/plain": [
       "\"\\nBest parameters:  {'C': 1, 'penalty': 'l2', 'solver': 'lbfgs'}\\n              precision    recall  f1-score   support\\n\\n           0       0.90      0.92      0.91     12430\\n           1       0.71      0.65      0.68      3846\\n\\n    accuracy                           0.85     16276\\n   macro avg       0.80      0.79      0.79     16276\\nweighted avg       0.85      0.85      0.85     16276\\n\\nBest score:  0.8221314012916615\\n\""
      ]
     },
     "execution_count": 14,
     "metadata": {},
     "output_type": "execute_result"
    }
   ],
   "source": [
    "param_grid = {'penalty': ['l1', 'l2', 'elasticnet', 'none'],\n",
    "              'C': [0.01, 0.1, 1],\n",
    "              'solver': ['newton-cg', 'lbfgs', 'liblinear', 'sag', 'saga']}\n",
    "\n",
    "lr_grid = GridSearchCV(estimator = LogisticRegression(max_iter=500,tol=0.0001), param_grid=param_grid)\n",
    "\n",
    "lr_grid.fit(X_train, y_train)\n",
    "\n",
    "print(\"Best parameters: \", lr_grid.best_params_)\n",
    "lr_grid_best = lr_grid.best_estimator_\n",
    "lr_grid_predictions = lr_grid_best.predict(X_test) \n",
    "print(classification_report(y_test, rf_grid_predictions))\n",
    "print(\"Best score: \", lr_grid.best_score_)\n",
    "#f1_score = f1_score(y_test, y_pred)\n",
    "#print(\"F1-score on test set:\", f1_score)\n",
    "'''\n",
    "Best parameters:  {'C': 1, 'penalty': 'l2', 'solver': 'lbfgs'}\n",
    "              precision    recall  f1-score   support\n",
    "\n",
    "           0       0.90      0.92      0.91     12430\n",
    "           1       0.71      0.65      0.68      3846\n",
    "\n",
    "    accuracy                           0.85     16276\n",
    "   macro avg       0.80      0.79      0.79     16276\n",
    "weighted avg       0.85      0.85      0.85     16276\n",
    "\n",
    "Best score:  0.8221314012916615\n",
    "'''"
   ]
  },
  {
   "cell_type": "code",
   "execution_count": 17,
   "metadata": {},
   "outputs": [
    {
     "name": "stdout",
     "output_type": "stream",
     "text": [
      "RandomForest:\n",
      "Accuracy: 0.852727942983534\n",
      "Precision: 0.7042571186918523\n",
      "Recall: 0.6495059802392096\n",
      "F1-score: 0.6757743811713783\n",
      "Time taken: train = 9.103679895401001 | test = 0.37961912155151367\n",
      "LogisticRegression:\n",
      "Accuracy: 0.8212091422954043\n",
      "Precision: 0.5906625339015885\n",
      "Recall: 0.7927717108684348\n",
      "F1-score: 0.6769538188277088\n",
      "Time taken: train = 2.587538003921509 | test = 0.01058816909790039\n"
     ]
    }
   ],
   "source": [
    "models = {\n",
    "    'RandomForest': rf_grid_best,\n",
    "    'LogisticRegression': lr_grid_best\n",
    "}\n",
    "accuracy_dic = dict()\n",
    "for model_name, model in models.items():\n",
    "    \n",
    "    start_fit_time = time.time()\n",
    "\n",
    "    models[model_name].fit(X_train, y_train)\n",
    "    fit_time = time.time() - start_fit_time\n",
    "\n",
    "    start_score_time = time.time()\n",
    "\n",
    "    y_pred = models[model_name].predict(X_test)\n",
    "    \n",
    "    score_time = time.time() - start_score_time\n",
    "    \n",
    "    accuracy = accuracy_score(y_test, y_pred)\n",
    "    precision = precision_score(y_test, y_pred)\n",
    "    recall = recall_score(y_test, y_pred)\n",
    "    f1 = f1_score(y_test, y_pred)\n",
    "    \n",
    "    print(model_name + \":\")\n",
    "    print(\"Accuracy:\", accuracy)\n",
    "    print('Precision:',precision)\n",
    "    print('Recall:',recall)\n",
    "    print(\"F1-score:\", f1)\n",
    "    print(\"Time taken: train =\", fit_time, \"| test =\", score_time)\n",
    "    \n",
    "    accuracy_dic[model_name]=accuracy"
   ]
  },
  {
   "cell_type": "code",
   "execution_count": 18,
   "metadata": {
    "scrolled": false
   },
   "outputs": [
    {
     "name": "stdout",
     "output_type": "stream",
     "text": [
      "RandomForest:\n",
      "Accuracy: 0.8548169083312853\n",
      "Precision: 0.7070650656241273\n",
      "Recall: 0.6583463338533542\n",
      "F1-score: 0.6818365423454962\n",
      "Time taken: train = 39.14756107330322 | test = 2.3278751373291016\n",
      "LogisticRegression:\n",
      "Accuracy: 0.8151265667240108\n",
      "Precision: 0.5768030831345201\n",
      "Recall: 0.8172126885075403\n",
      "F1-score: 0.6762775685852609\n",
      "Time taken: train = 6.754455804824829 | test = 0.013499021530151367\n",
      "RandomForest: ROC AUC=0.907\n",
      "LogisticRegression: ROC AUC=0.903\n"
     ]
    },
    {
     "data": {
      "image/png": "[encoded data removed]",
      "text/plain": [
       "<Figure size 432x288 with 1 Axes>"
      ]
     },
     "metadata": {
      "needs_background": "light"
     },
     "output_type": "display_data"
    }
   ],
   "source": [
    "# Models with best parameters\n",
    "models = {\n",
    "    'RandomForest': RandomForestClassifier(max_depth=None, max_features='sqrt', min_samples_split=2, n_estimators=500),\n",
    "    #'LogisticRegression': LogisticRegression(C=1, penalty='l1', solver='saga')\n",
    "    'LogisticRegression': LogisticRegression(C=0.01, penalty='none', solver='newton-cg')\n",
    "}\n",
    "accuracy_dic = dict()\n",
    "    \n",
    "def eval_model(model_name,model):\n",
    "    \n",
    "    start_fit_time = time.time()\n",
    "    models[model_name].fit(X_train, y_train)\n",
    "    fit_time = time.time() - start_fit_time\n",
    "\n",
    "    start_score_time = time.time()\n",
    "    y_pred = models[model_name].predict(X_test)\n",
    "    score_time = time.time() - start_score_time\n",
    "\n",
    "    \n",
    "    accuracy = accuracy_score(y_test, y_pred)\n",
    "    precision = precision_score(y_test, y_pred)\n",
    "    recall = recall_score(y_test, y_pred)\n",
    "    f1 = f1_score(y_test, y_pred)\n",
    "    \n",
    "    print(model_name + \":\")\n",
    "    print(\"Accuracy:\", accuracy)\n",
    "    print('Precision:',precision)\n",
    "    print('Recall:',recall)\n",
    "    print(\"F1-score:\", f1)\n",
    "    print(\"Time taken: train =\", fit_time, \"| test =\", score_time)\n",
    "    \n",
    "    return accuracy\n",
    "\n",
    "for model_name, model in models.items():\n",
    "    accuracy = eval_model(model_name,model)\n",
    "    accuracy_dic[model_name]=accuracy\n",
    "\n",
    "    \n",
    "# ROC\n",
    "ns_probs = models[\"RandomForest\"].predict_proba(X_test)[:, 1]\n",
    "nb_probs1 = models[\"LogisticRegression\"].predict_proba(X_test)[:, 1]\n",
    "\n",
    "# calculate scores\n",
    "ns_auc = roc_auc_score(y_test, ns_probs)\n",
    "nb_auc = roc_auc_score(y_test, nb_probs1)\n",
    "# summarize scores\n",
    "print('RandomForest: ROC AUC=%.3f' % (ns_auc))\n",
    "print('LogisticRegression: ROC AUC=%.3f' % (nb_auc))\n",
    "# calculate roc curves\n",
    "ns_fpr, ns_tpr, _ = roc_curve(y_test, ns_probs)\n",
    "nb_fpr, nb_tpr, _ = roc_curve(y_test, nb_probs1)\n",
    "# plot the roc curve for the model\n",
    "\n",
    "plt.plot(ns_fpr, ns_tpr, linestyle='--', color='orange', label='RandomForest: ROC AUC=%.3f' % (ns_auc))\n",
    "plt.plot(nb_fpr, nb_tpr, linestyle='--',label='LogisticRegression: ROC AUC=%.3f' % (nb_auc))\n",
    "plt.xlabel('FALSE POSITIVE RATE')\n",
    "plt.ylabel('TRUE POSITIVE RATE')\n",
    "plt.legend()\n",
    "plt.show()\n",
    "\n"
   ]
  },
  {
   "cell_type": "markdown",
   "metadata": {},
   "source": [
    "# Comparision"
   ]
  },
  {
   "cell_type": "code",
   "execution_count": 21,
   "metadata": {},
   "outputs": [
    {
     "name": "stdout",
     "output_type": "stream",
     "text": [
      "Evaluate accuracy on testing set\n",
      "0.8548169083312853\n",
      "0.8151265667240108\n",
      "Logistic Regression performance: 0.8151\n",
      "Random Forest performance: 0.8548\n",
      "Difference in performance: 0.0397\n",
      "Standard error of difference: 0.0041\n",
      "95% confidence interval for difference: [0.0316, 0.0477]\n"
     ]
    }
   ],
   "source": [
    "# Comparing Performance of 2 Models\n",
    "\n",
    "print('Evaluate accuracy on testing set')\n",
    "\n",
    "rf_perf = accuracy_dic['RandomForest']\n",
    "print(rf_perf)\n",
    "lr_perf = accuracy_dic['LogisticRegression']\n",
    "print(lr_perf)\n",
    "\n",
    "# Calculate difference in accuracy\n",
    "diff_acc = rf_perf - lr_perf\n",
    "# Calculate the test statistic for the z-test\n",
    "lr_var = lr_perf * (1 - lr_perf)/len(y_test)\n",
    "rf_var = rf_perf * (1 - rf_perf)/len(y_test)\n",
    "\n",
    "d_std = np.sqrt(lr_var + rf_var)\n",
    "\n",
    "z_score = 1.96  # for 95% confidence interval\n",
    "# Calculate confidence interval for the difference in performance\n",
    "ci_low = diff_acc - z_score * d_std\n",
    "ci_high = diff_acc + z_score * d_std\n",
    "\n",
    "print('Logistic Regression performance: {:.4f}'.format(lr_perf))\n",
    "print('Random Forest performance: {:.4f}'.format(rf_perf))\n",
    "print('Difference in performance: {:.4f}'.format(diff_acc))\n",
    "print('Standard error of difference: {:.4f}'.format(d_std))\n",
    "print('95% confidence interval for difference: [{:.4f}, {:.4f}]'.format(ci_low, ci_high))"
   ]
  },
  {
   "cell_type": "code",
   "execution_count": null,
   "metadata": {},
   "outputs": [],
   "source": []
  }
 ],
 "metadata": {
  "colab": {
   "name": "Project2.ipynb",
   "provenance": []
  },
  "kernelspec": {
   "display_name": "Python 3 (ipykernel)",
   "language": "python",
   "name": "python3"
  },
  "language_info": {
   "codemirror_mode": {
    "name": "ipython",
    "version": 3
   },
   "file_extension": ".py",
   "mimetype": "text/x-python",
   "name": "python",
   "nbconvert_exporter": "python",
   "pygments_lexer": "ipython3",
   "version": "3.9.7"
  }
 },
 "nbformat": 4,
 "nbformat_minor": 1
}
